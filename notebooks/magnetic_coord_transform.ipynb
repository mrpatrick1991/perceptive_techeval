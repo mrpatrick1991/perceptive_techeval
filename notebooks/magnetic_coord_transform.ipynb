{
 "cells": [
  {
   "cell_type": "code",
   "execution_count": 1,
   "id": "initial_id",
   "metadata": {
    "collapsed": true,
    "ExecuteTime": {
     "end_time": "2024-10-26T09:15:17.136571Z",
     "start_time": "2024-10-26T09:15:16.764797Z"
    }
   },
   "outputs": [],
   "source": [
    "import os\n",
    "import polars as pl\n",
    "import numpy as np\n",
    "import time\n",
    "import datetime as dt\n",
    "import aacgmv2\n",
    "from spacepy import pycdf\n",
    "from IPython.display import clear_output\n",
    "import contextlib"
   ]
  },
  {
   "cell_type": "code",
   "outputs": [],
   "source": [
    "def calculate_magnetic_coords_aacgm(lat, lon, alt, timestamp):\n",
    "    dtime = dt.datetime.utcfromtimestamp(timestamp)\n",
    "    with open(os.devnull, 'w') as fnull:\n",
    "        with contextlib.redirect_stderr(fnull): \n",
    "            geomag_lat, geomag_lon = aacgmv2.get_aacgm_coord(lat, lon, alt, dtime)[:2]\n",
    "            if geomag_lat is None or geomag_lon is None:\n",
    "                return np.nan, np.nan\n",
    "            try:\n",
    "                ut_hours = dtime.hour + dtime.minute / 60.0\n",
    "                mlt = (geomag_lon / 15.0) + ut_hours\n",
    "                mlt = mlt % 24  \n",
    "                return geomag_lat, mlt\n",
    "            except:\n",
    "                return np.nan, np.nan "
   ],
   "metadata": {
    "collapsed": false,
    "ExecuteTime": {
     "end_time": "2024-10-26T09:15:17.154392Z",
     "start_time": "2024-10-26T09:15:17.144069Z"
    }
   },
   "id": "372557794cfcb871",
   "execution_count": 2
  },
  {
   "cell_type": "code",
   "outputs": [
    {
     "name": "stdout",
     "output_type": "stream",
     "text": [
      "Processed file 659/2048: /Users/patrick/Dev/perceptive_techeval/data/champ-2002-2007/champ-2006/CH_OPER_DNS_ACC_2__20060109T000000_20060109T235959_0001.cdf in 3.24s (32.18%)\n"
     ]
    }
   ],
   "source": [
    "import os\n",
    "import time\n",
    "import datetime as dt\n",
    "import polars as pl\n",
    "from IPython.display import clear_output\n",
    "from spacepy import pycdf\n",
    "import numpy as np\n",
    "\n",
    "# Timing setup\n",
    "start_time = time.time()\n",
    "\n",
    "limit = 10000  # Limit to this many CDF files for testing\n",
    "champ_root_dir = \"/Users/patrick/Dev/perceptive_techeval/data/champ-2002-2007/\"\n",
    "output_dir = \"/Users/patrick/Dev/perceptive_techeval/champ_l2/\"\n",
    "\n",
    "# Ensure output directory exists\n",
    "os.makedirs(output_dir, exist_ok=True)\n",
    "\n",
    "# Count total CDF files for progress indicator\n",
    "cdf_count = sum(\n",
    "    len([f for f in files if f.endswith(\".cdf\")])\n",
    "    for _, _, files in os.walk(champ_root_dir)\n",
    ")\n",
    "print(f\"Total number of CDF files: {cdf_count}\")\n",
    "\n",
    "processed = 0\n",
    "\n",
    "for root, dirs, files in os.walk(os.path.abspath(champ_root_dir)):\n",
    "    for file in [f for f in files if f.endswith(\".cdf\")][0:limit]:\n",
    "        file_path = os.path.join(root, file)\n",
    "\n",
    "        # Track start time for each file\n",
    "        file_start_time = time.time()\n",
    "\n",
    "        # Load CDF data\n",
    "        cdf = pycdf.CDF(file_path)\n",
    "        alt = cdf[\"altitude\"][:] / 1000.0\n",
    "        lat = cdf[\"latitude\"][:]\n",
    "        lon = cdf[\"longitude\"][:]\n",
    "        lst = cdf[\"local_solar_time\"][:]\n",
    "        valid = cdf[\"validity_flag\"][:]\n",
    "        density = cdf[\"density\"][:]\n",
    "        density_orbitmean = cdf[\"density_orbitmean\"][:]\n",
    "        time_vals = cdf[\"time\"][:]\n",
    "\n",
    "        unix_timestamps = [dt.datetime.timestamp(t) for t in time_vals]\n",
    "\n",
    "        # Create initial DataFrame\n",
    "        df = pl.DataFrame({\n",
    "            \"timestamp\": unix_timestamps,\n",
    "            \"altitude\": alt,\n",
    "            \"latitude\": lat,\n",
    "            \"longitude\": lon,\n",
    "            \"local_solar_time\": lst,\n",
    "            \"validity_flag\": valid,\n",
    "            \"density_orbitmean\": density_orbitmean,\n",
    "            \"density\": density\n",
    "        })\n",
    "\n",
    "        # Replace high values with NaN\n",
    "        columns_to_check = [col for col in df.columns if col != \"timestamp\"]\n",
    "        df = df.with_columns([\n",
    "            pl.when(pl.col(col) > 1e25).then(np.nan).otherwise(pl.col(col)).alias(col)\n",
    "            for col in columns_to_check\n",
    "        ])\n",
    "\n",
    "        # Calculate geomagnetic coordinates and magnetic local time in batches\n",
    "        geomagnetic_latitudes, mlts = zip(*[\n",
    "            calculate_magnetic_coords_aacgm(row[0], row[1], row[2], row[3])\n",
    "            for row in zip(df[\"latitude\"], df[\"longitude\"], df[\"altitude\"], df[\"timestamp\"])\n",
    "        ])\n",
    "\n",
    "        df = df.with_columns([\n",
    "            pl.Series(\"geomagnetic_latitude\", geomagnetic_latitudes),\n",
    "            pl.Series(\"mlt\", mlts)\n",
    "        ])\n",
    "\n",
    "        # Clean data\n",
    "        df = df.drop_nulls()\n",
    "\n",
    "        # Save DataFrame to individual CSV\n",
    "        output_file = os.path.join(output_dir, f\"{os.path.basename(file_path).replace('.cdf', '')}.csv\")\n",
    "        df.write_csv(output_file)\n",
    "\n",
    "        processed += 1\n",
    "        file_elapsed = time.time() - file_start_time\n",
    "        percent_complete = (processed / cdf_count) * 100\n",
    "\n",
    "        # Clear and update progress display\n",
    "        clear_output(wait=True)\n",
    "        print(f\"Processed file {processed}/{cdf_count}: {file_path} in {file_elapsed:.2f}s ({percent_complete:.2f}%)\")\n",
    "\n",
    "        # Break the loop if the limit is reached\n",
    "        if processed >= limit:\n",
    "            break\n",
    "\n",
    "# Final timing\n",
    "end_time = time.time()\n",
    "print(f\"Total processing time: {end_time - start_time:.2f}s\")"
   ],
   "metadata": {
    "collapsed": false,
    "is_executing": true
   },
   "id": "c52ed97134bc9661",
   "execution_count": null
  },
  {
   "cell_type": "code",
   "outputs": [
    {
     "data": {
      "text/plain": "shape: (8_611, 11)\n┌───────────┬───────────┬───────────┬───────────┬───┬───────────┬───────────┬───────────┬──────────┐\n│ timestamp ┆ altitude  ┆ latitude  ┆ longitude ┆ … ┆ density   ┆ geomagnet ┆ mlt       ┆ delta_de │\n│ ---       ┆ ---       ┆ ---       ┆ ---       ┆   ┆ ---       ┆ ic_latitu ┆ ---       ┆ nsity    │\n│ f64       ┆ f64       ┆ f64       ┆ f64       ┆   ┆ f64       ┆ de        ┆ f64       ┆ ---      │\n│           ┆           ┆           ┆           ┆   ┆           ┆ ---       ┆           ┆ f64      │\n│           ┆           ┆           ┆           ┆   ┆           ┆ f64       ┆           ┆          │\n╞═══════════╪═══════════╪═══════════╪═══════════╪═══╪═══════════╪═══════════╪═══════════╪══════════╡\n│ 1.0163e9  ┆ 392.89288 ┆ 41.099531 ┆ -76.26810 ┆ … ┆ 8.0952e-1 ┆ 52.785473 ┆ 7.030145  ┆ 0.043452 │\n│           ┆ 1         ┆           ┆ 3         ┆   ┆ 2         ┆           ┆           ┆          │\n│ 1.0163e9  ┆ 392.91167 ┆ 40.448758 ┆ -76.25571 ┆ … ┆ 8.1339e-1 ┆ 52.185339 ┆ 7.044432  ┆ 0.045213 │\n│           ┆ 3         ┆           ┆ 7         ┆   ┆ 2         ┆           ┆           ┆          │\n│ 1.0163e9  ┆ 392.93410 ┆ 39.797908 ┆ -76.24436 ┆ … ┆ 8.1583e-1 ┆ 51.585885 ┆ 7.041916  ┆ 0.045141 │\n│           ┆ 3         ┆           ┆ 7         ┆   ┆ 2         ┆           ┆           ┆          │\n│ 1.0163e9  ┆ 392.96024 ┆ 39.146982 ┆ -76.23401 ┆ … ┆ 8.1702e-1 ┆ 50.987159 ┆ 7.039267  ┆ 0.043518 │\n│           ┆ 5         ┆           ┆           ┆   ┆ 2         ┆           ┆           ┆          │\n│ 1.0163e9  ┆ 392.99017 ┆ 38.495982 ┆ -76.22460 ┆ … ┆ 8.1715e-1 ┆ 50.389205 ┆ 7.036488  ┆ 0.040655 │\n│           ┆ 6         ┆           ┆ 5         ┆   ┆ 2         ┆           ┆           ┆          │\n│ …         ┆ …         ┆ …         ┆ …         ┆ … ┆ …         ┆ …         ┆ …         ┆ …        │\n│ 1.0163e9  ┆ 444.27757 ┆ -52.48258 ┆ 102.60731 ┆ … ┆ 2.3879e-1 ┆ -66.77024 ┆ 17.847478 ┆ 0.034003 │\n│           ┆ 4         ┆ 1         ┆ 6         ┆   ┆ 2         ┆ 1         ┆           ┆          │\n│ 1.0163e9  ┆ 443.89956 ┆ -51.84320 ┆ 102.64671 ┆ … ┆ 2.3979e-1 ┆ -66.14333 ┆ 17.880418 ┆ 0.036874 │\n│           ┆ 2         ┆ 8         ┆ 9         ┆   ┆ 2         ┆ 9         ┆           ┆          │\n│ 1.0163e9  ┆ 443.51726 ┆ -51.20365 ┆ 102.68386 ┆ … ┆ 2.4104e-1 ┆ -65.51392 ┆ 17.911787 ┆ 0.040586 │\n│           ┆ 7         ┆ 6         ┆ 1         ┆   ┆ 2         ┆ 8         ┆           ┆          │\n│ 1.0163e9  ┆ 443.13081 ┆ -50.56392 ┆ 102.71885 ┆ … ┆ 2.4196e-1 ┆ -64.88215 ┆ 17.941696 ┆ 0.042702 │\n│           ┆ 1         ┆ 6         ┆ 6         ┆   ┆ 2         ┆           ┆           ┆          │\n│ 1.0163e9  ┆ 442.74031 ┆ -49.92402 ┆ 102.75180 ┆ … ┆ 2.4343e-1 ┆ -64.24813 ┆ 17.970244 ┆ 0.047    │\n│           ┆ 8         ┆           ┆ 6         ┆   ┆ 2         ┆ 9         ┆           ┆          │\n└───────────┴───────────┴───────────┴───────────┴───┴───────────┴───────────┴───────────┴──────────┘",
      "text/html": "<div><style>\n.dataframe > thead > tr,\n.dataframe > tbody > tr {\n  text-align: right;\n  white-space: pre-wrap;\n}\n</style>\n<small>shape: (8_611, 11)</small><table border=\"1\" class=\"dataframe\"><thead><tr><th>timestamp</th><th>altitude</th><th>latitude</th><th>longitude</th><th>local_solar_time</th><th>validity_flag</th><th>density_orbitmean</th><th>density</th><th>geomagnetic_latitude</th><th>mlt</th><th>delta_density</th></tr><tr><td>f64</td><td>f64</td><td>f64</td><td>f64</td><td>f64</td><td>f64</td><td>f64</td><td>f64</td><td>f64</td><td>f64</td><td>f64</td></tr></thead><tbody><tr><td>1.0163e9</td><td>392.892881</td><td>41.099531</td><td>-76.268103</td><td>18.848671</td><td>0.0</td><td>4.8323e-12</td><td>8.0952e-12</td><td>52.785473</td><td>7.030145</td><td>0.043452</td></tr><tr><td>1.0163e9</td><td>392.911673</td><td>40.448758</td><td>-76.255717</td><td>18.852275</td><td>0.0</td><td>4.8324e-12</td><td>8.1339e-12</td><td>52.185339</td><td>7.044432</td><td>0.045213</td></tr><tr><td>1.0163e9</td><td>392.934103</td><td>39.797908</td><td>-76.244367</td><td>18.85581</td><td>0.0</td><td>4.8326e-12</td><td>8.1583e-12</td><td>51.585885</td><td>7.041916</td><td>0.045141</td></tr><tr><td>1.0163e9</td><td>392.960245</td><td>39.146982</td><td>-76.23401</td><td>18.859279</td><td>0.0</td><td>4.8328e-12</td><td>8.1702e-12</td><td>50.987159</td><td>7.039267</td><td>0.043518</td></tr><tr><td>1.0163e9</td><td>392.990176</td><td>38.495982</td><td>-76.224605</td><td>18.862684</td><td>0.0</td><td>4.8329e-12</td><td>8.1715e-12</td><td>50.389205</td><td>7.036488</td><td>0.040655</td></tr><tr><td>&hellip;</td><td>&hellip;</td><td>&hellip;</td><td>&hellip;</td><td>&hellip;</td><td>&hellip;</td><td>&hellip;</td><td>&hellip;</td><td>&hellip;</td><td>&hellip;</td><td>&hellip;</td></tr><tr><td>1.0163e9</td><td>444.277574</td><td>-52.482581</td><td>102.607316</td><td>6.683964</td><td>0.0</td><td>4.8336e-12</td><td>2.3879e-12</td><td>-66.770241</td><td>17.847478</td><td>0.034003</td></tr><tr><td>1.0163e9</td><td>443.899562</td><td>-51.843208</td><td>102.646719</td><td>6.689369</td><td>0.0</td><td>4.8337e-12</td><td>2.3979e-12</td><td>-66.143339</td><td>17.880418</td><td>0.036874</td></tr><tr><td>1.0163e9</td><td>443.517267</td><td>-51.203656</td><td>102.683861</td><td>6.694624</td><td>0.0</td><td>4.8338e-12</td><td>2.4104e-12</td><td>-65.513928</td><td>17.911787</td><td>0.040586</td></tr><tr><td>1.0163e9</td><td>443.130811</td><td>-50.563926</td><td>102.718856</td><td>6.699735</td><td>0.0</td><td>4.8340e-12</td><td>2.4196e-12</td><td>-64.88215</td><td>17.941696</td><td>0.042702</td></tr><tr><td>1.0163e9</td><td>442.740318</td><td>-49.92402</td><td>102.751806</td><td>6.70471</td><td>0.0</td><td>4.8341e-12</td><td>2.4343e-12</td><td>-64.248139</td><td>17.970244</td><td>0.047</td></tr></tbody></table></div>"
     },
     "execution_count": 15,
     "metadata": {},
     "output_type": "execute_result"
    }
   ],
   "source": [
    "pl.read_csv(\"/Users/patrick/Dev/perceptive_techeval/champ_l2/CH_OPER_DNS_ACC_2__20020316T000000_20020316T235959_0001.csv\")"
   ],
   "metadata": {
    "collapsed": false,
    "ExecuteTime": {
     "end_time": "2024-10-26T04:34:05.764653Z",
     "start_time": "2024-10-26T04:34:05.728199Z"
    }
   },
   "id": "3baf76d9497ebb18",
   "execution_count": 15
  },
  {
   "cell_type": "code",
   "outputs": [],
   "source": [],
   "metadata": {
    "collapsed": false
   },
   "id": "45d472d1eb3b79de"
  }
 ],
 "metadata": {
  "kernelspec": {
   "display_name": "Python 3",
   "language": "python",
   "name": "python3"
  },
  "language_info": {
   "codemirror_mode": {
    "name": "ipython",
    "version": 2
   },
   "file_extension": ".py",
   "mimetype": "text/x-python",
   "name": "python",
   "nbconvert_exporter": "python",
   "pygments_lexer": "ipython2",
   "version": "2.7.6"
  }
 },
 "nbformat": 4,
 "nbformat_minor": 5
}
